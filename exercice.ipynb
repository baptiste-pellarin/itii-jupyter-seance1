{
 "cells": [
  {
   "cell_type": "markdown",
   "metadata": {},
   "source": [
    "# TP 1 \n",
    "###### Baptiste Pellarin - 3IRC - 09/09/2020"
   ]
  },
  {
   "cell_type": "markdown",
   "metadata": {},
   "source": [
    "#### Exercice 1 "
   ]
  },
  {
   "cell_type": "code",
   "execution_count": 9,
   "metadata": {},
   "outputs": [
    {
     "data": {
      "text/plain": [
       "11008.664256954233"
      ]
     },
     "execution_count": 9,
     "metadata": {},
     "output_type": "execute_result"
    }
   ],
   "source": [
    "import math\n",
    "\n",
    "\n",
    "def volume(rayon : float, hauteur : float):\n",
    "    return (math.pi * (rayon**2) * hauteur)/3\n",
    "\n",
    "\n",
    "volume(14.5, 50)"
   ]
  },
  {
   "cell_type": "markdown",
   "metadata": {},
   "source": [
    "#### Exercice 2"
   ]
  },
  {
   "cell_type": "markdown",
   "metadata": {},
   "source": [
    "###### a"
   ]
  },
  {
   "cell_type": "code",
   "execution_count": 25,
   "metadata": {},
   "outputs": [
    {
     "data": {
      "text/plain": [
       "9"
      ]
     },
     "execution_count": 25,
     "metadata": {},
     "output_type": "execute_result"
    }
   ],
   "source": [
    "def somme_cube(iteration : int):\n",
    "    i = 0\n",
    "    total = 0\n",
    "    while i < iteration:\n",
    "        i += 1\n",
    "        total += i ** 3\n",
    "    return total\n",
    "somme_cube(2)"
   ]
  },
  {
   "cell_type": "markdown",
   "metadata": {},
   "source": [
    "###### b"
   ]
  },
  {
   "cell_type": "code",
   "execution_count": 26,
   "metadata": {},
   "outputs": [
    {
     "data": {
      "text/plain": [
       "3"
      ]
     },
     "execution_count": 26,
     "metadata": {},
     "output_type": "execute_result"
    }
   ],
   "source": [
    "def somme(iteration : int):\n",
    "    i = 0\n",
    "    total = 0\n",
    "    while i < iteration:\n",
    "        i += 1\n",
    "        total += i\n",
    "    return total\n",
    "somme(2)"
   ]
  },
  {
   "cell_type": "markdown",
   "metadata": {},
   "source": [
    "#### Exercice 3"
   ]
  },
  {
   "cell_type": "markdown",
   "metadata": {},
   "source": [
    "###### a"
   ]
  },
  {
   "cell_type": "code",
   "execution_count": 8,
   "metadata": {},
   "outputs": [
    {
     "data": {
      "text/plain": [
       "300"
      ]
     },
     "execution_count": 8,
     "metadata": {},
     "output_type": "execute_result"
    }
   ],
   "source": [
    "def count_one(iterations : int):\n",
    "    i = 0\n",
    "    total = 0\n",
    "    while i < iterations:\n",
    "        if(\"1\" in str(i)):\n",
    "            total += str(i).count(\"1\")\n",
    "        i += 1\n",
    "    return total\n",
    "\n",
    "count_one(999)"
   ]
  },
  {
   "cell_type": "markdown",
   "metadata": {},
   "source": [
    "###### b"
   ]
  },
  {
   "cell_type": "code",
   "execution_count": 10,
   "metadata": {},
   "outputs": [
    {
     "data": {
      "text/plain": [
       "3.0"
      ]
     },
     "execution_count": 10,
     "metadata": {},
     "output_type": "execute_result"
    }
   ],
   "source": [
    "def decimal(integer :int):\n",
    "    return float(integer)\n",
    "\n",
    "decimal(3)"
   ]
  },
  {
   "cell_type": "markdown",
   "metadata": {},
   "source": [
    "#### Exercice 4"
   ]
  },
  {
   "cell_type": "code",
   "execution_count": 31,
   "metadata": {},
   "outputs": [
    {
     "data": {
      "text/plain": [
       "3.18262"
      ]
     },
     "execution_count": 31,
     "metadata": {},
     "output_type": "execute_result"
    }
   ],
   "source": [
    "import random\n",
    "\n",
    "def approx_pi(nbr_points : int):\n",
    "    i = 0\n",
    "    p = 0\n",
    "    while i < nbr_points:\n",
    "        x  = (random.randrange(0, 100)/100)\n",
    "        y = (random.randrange(0, 100)/100)\n",
    "        if((x**2) + (y**2) < 1):\n",
    "            p += 1\n",
    "        i += 1\n",
    "        \n",
    "    return 4 *(p / i)\n",
    "    \n",
    "approx_pi(1000000)"
   ]
  },
  {
   "cell_type": "code",
   "execution_count": null,
   "metadata": {},
   "outputs": [],
   "source": []
  }
 ],
 "metadata": {
  "kernelspec": {
   "display_name": "Python 3",
   "language": "python",
   "name": "python3"
  }
 },
 "nbformat": 4,
 "nbformat_minor": 4
}
